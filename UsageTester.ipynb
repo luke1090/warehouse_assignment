{
 "cells": [
  {
   "cell_type": "code",
   "execution_count": 1,
   "metadata": {
    "collapsed": false,
    "deletable": true,
    "editable": true
   },
   "outputs": [
    {
     "data": {
      "text/plain": [
       "planroutes (generic function with 2 methods)"
      ]
     },
     "execution_count": 1,
     "metadata": {},
     "output_type": "execute_result"
    }
   ],
   "source": [
    "include(\"./WarehouseRoutePlanner.jl\")"
   ]
  },
  {
   "cell_type": "code",
   "execution_count": 2,
   "metadata": {
    "collapsed": false
   },
   "outputs": [
    {
     "data": {
      "text/plain": [
       "\"120x120WarehouseMap.csv\""
      ]
     },
     "execution_count": 2,
     "metadata": {},
     "output_type": "execute_result"
    }
   ],
   "source": [
    "jobs = [Dict(\"job_id\" => 1,\n",
    "             \"start_node\" => 1084,\n",
    "             \"end_node\" => 14147)\n",
    "        ,Dict(\"job_id\" => 2,\n",
    "             \"start_node\" => 6731,\n",
    "             \"end_node\" => 3202),\n",
    "        Dict(\"job_id\" => 3,\n",
    "             \"start_node\" => 9488,\n",
    "             \"end_node\" => 4975)\n",
    "             ];\n",
    "\n",
    "vehicles = [Dict(\"vehicle_id\" => 1,\n",
    "             \"start_node\" => 5093),\n",
    "        Dict(\"vehicle_id\" => 2,\n",
    "             \"start_node\" => 168)];\n",
    "\n",
    "mapfile = \"120x120WarehouseMap.csv\""
   ]
  },
  {
   "cell_type": "markdown",
   "metadata": {
    "collapsed": false,
    "deletable": true,
    "editable": true
   },
   "source": [
    "jobs = [Dict(\"job_id\" => 1,\n",
    "             \"start_node\" => 41,\n",
    "             \"end_node\" => 153),\n",
    "        Dict(\"job_id\" => 2,\n",
    "             \"start_node\" => 190,\n",
    "             \"end_node\" => 45),\n",
    "        Dict(\"job_id\" => 3,\n",
    "             \"start_node\" => 212,\n",
    "             \"end_node\" => 105),\n",
    "        Dict(\"job_id\" => 4,\n",
    "             \"start_node\" => 101,\n",
    "             \"end_node\" => 149),\n",
    "        Dict(\"job_id\" => 5,\n",
    "             \"start_node\" => 37,\n",
    "             \"end_node\" => 165),\n",
    "        Dict(\"job_id\" => 6,\n",
    "             \"start_node\" => 216,\n",
    "             \"end_node\" => 91),\n",
    "        Dict(\"job_id\" => 7,\n",
    "             \"start_node\" => 126,\n",
    "             \"end_node\" => 131),\n",
    "        Dict(\"job_id\" => 8,\n",
    "             \"start_node\" => 84,\n",
    "             \"end_node\" => 141),\n",
    "        Dict(\"job_id\" => 9,\n",
    "             \"start_node\" => 170,\n",
    "             \"end_node\" => 38),\n",
    "        Dict(\"job_id\" => 10,\n",
    "             \"start_node\" => 84,\n",
    "             \"end_node\" => 212),\n",
    "        Dict(\"job_id\" => 11,\n",
    "             \"start_node\" => 37,\n",
    "             \"end_node\" => 165),\n",
    "        Dict(\"job_id\" => 12,\n",
    "             \"start_node\" => 216,\n",
    "             \"end_node\" => 91)\n",
    "             ];\n",
    "\n",
    "vehicles = [Dict(\"vehicle_id\" => 1,\n",
    "             \"start_node\" => 18),\n",
    "        Dict(\"vehicle_id\" => 2,\n",
    "             \"start_node\" => 239),\n",
    "        Dict(\"vehicle_id\" => 3,\n",
    "             \"start_node\" => 226),\n",
    "        Dict(\"vehicle_id\" => 4,\n",
    "             \"start_node\" => 31)];\n",
    "\n",
    "mapfile = \"SmallWarehouseMap.csv\""
   ]
  },
  {
   "cell_type": "code",
   "execution_count": null,
   "metadata": {
    "collapsed": false,
    "deletable": true,
    "editable": true
   },
   "outputs": [
    {
     "name": "stdout",
     "output_type": "stream",
     "text": [
      "{14400, 56450} directed graph\n",
      "PATH_INIT =================\n",
      "  1.154696 seconds (355.12 k allocations: 1.768 GB, 9.41% gc time)\n",
      "Node: 1084 is S\n",
      "Node: 14147 is O\n",
      "Node: 6731 is I\n",
      "Node: 3202 is I\n",
      "Node: 9488 is S\n",
      "Node: 4975 is O\n",
      "Node: 5093 is O\n",
      "Node: 168 is O\n",
      "Planning path from 5093 to 5093\n",
      "  0.132317 seconds (14.07 k allocations: 778.381 KB)\n",
      "Planning path from 5093 to 168\n"
     ]
    }
   ],
   "source": [
    "resolvedroutes = planroutes(mapfile,jobs,vehicles)"
   ]
  },
  {
   "cell_type": "code",
   "execution_count": null,
   "metadata": {
    "collapsed": true,
    "deletable": true,
    "editable": true
   },
   "outputs": [],
   "source": [
    "#draw_path(mapfile, resolvedroutes[2], false);"
   ]
  }
 ],
 "metadata": {
  "kernelspec": {
   "display_name": "Julia 0.5.1",
   "language": "julia",
   "name": "julia-0.5"
  },
  "language_info": {
   "file_extension": ".jl",
   "mimetype": "application/julia",
   "name": "julia",
   "version": "0.5.1"
  }
 },
 "nbformat": 4,
 "nbformat_minor": 2
}
